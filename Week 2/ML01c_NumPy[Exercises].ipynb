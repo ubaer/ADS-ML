{
 "cells": [
  {
   "cell_type": "markdown",
   "metadata": {},
   "source": [
    "## NumPy Exercise Book"
   ]
  },
  {
   "cell_type": "markdown",
   "metadata": {},
   "source": [
    "#### Introduction"
   ]
  },
  {
   "cell_type": "markdown",
   "metadata": {},
   "source": [
    "In scikit-learn (sklearn) we will usually do the calculations with numerical arrays. As the built-in Python list is not suitable to serve as numeric array, sklearn utilizes NumPy arrays. The designers of NumPy took great care in making NumPy arrays in a \"pythonic\" way.\n",
    "\n",
    "NumPy arrays are more efficient than regular python lists because they are homogeneous: all elements are of the same type. As a consequence memory size only depends on the number of elements. This makes calculations much more efficient.\n",
    "\n",
    "In this exercise we will only focus on the array handling functionality of NumPy as this is what we will mostly use from NumPy when using sklearn. Under the hood, sklearn will use a lot more of NumPy's functionality, but we will stay away from the linear algebra jungle sklearn is built upon.  \n",
    "Please note these exercises only represent a tiny part of NumPy's functionality. What's more, these exercises only touch a small part of NumPy's array handling functionality. It's only meant to get you going in exploring NumPy's extensive array handling capabilities.\n",
    "\n",
    "Having finished this exercise book and want to know some more (I'm sure you will!): Robert Johansson created a nice introductory NumPy [notebook](https://goo.gl/zfsx77). "
   ]
  },
  {
   "cell_type": "markdown",
   "metadata": {},
   "source": [
    "#### Creating NumPy arrays"
   ]
  },
  {
   "cell_type": "code",
   "execution_count": 2,
   "metadata": {
    "collapsed": false
   },
   "outputs": [
    {
     "name": "stdout",
     "output_type": "stream",
     "text": [
      "[1 2 3]\n[1 2 3]\n"
     ]
    }
   ],
   "source": [
    "import numpy as np\n",
    "# Numpy arrays are created from  python lists and tuples using the array function\n",
    "print(np.array([1,2,3]))   # from a list (note square brackets)\n",
    "print(np.array((1,2,3)))   # from a tuple (note parenthesis)"
   ]
  },
  {
   "cell_type": "code",
   "execution_count": 14,
   "metadata": {
    "collapsed": false
   },
   "outputs": [
    {
     "data": {
      "text/plain": [
       "array([0, 0, 1, 2, 0])"
      ]
     },
     "execution_count": 14,
     "metadata": {},
     "output_type": "execute_result"
    }
   ],
   "source": [
    "# create an array for the string 'aacta' with lookup list ['a','c','t']\n",
    "# you should get array([0, 0, 1, 2, 0]) which is a simple numeric encoding of the string\n",
    "np.array([i for c in 'aacta' for i,ch in enumerate(['a','c','t']) if ch == c])"
   ]
  },
  {
   "cell_type": "markdown",
   "metadata": {},
   "source": [
    "I did the above by using the enumerate. How does this work? The ``enumerate(iterable, start=0)`` function return a so-called enumerate object. Iterable must be a sequence, an iterator, or some other object which supports iteration. The built-in ``__next__()`` method of the iterator returned by enumerate() returns a tuple containing a count (from start which defaults to 0) and the values obtained from iterating over iterable. Look at the following code snippet for an example! "
   ]
  },
  {
   "cell_type": "code",
   "execution_count": 2,
   "metadata": {
    "collapsed": false
   },
   "outputs": [
    {
     "name": "stdout",
     "output_type": "stream",
     "text": [
      "[(0, 'Spring'), (1, 'Summer'), (2, 'Fall'), (3, 'Winter')]\n",
      "[(1, 'Spring'), (2, 'Summer'), (3, 'Fall'), (4, 'Winter')]\n"
     ]
    }
   ],
   "source": [
    "seasons = ['Spring', 'Summer', 'Fall', 'Winter']\n",
    "print(list(enumerate(seasons)))\n",
    "print(list(enumerate(seasons, start=1)))"
   ]
  },
  {
   "cell_type": "code",
   "execution_count": 20,
   "metadata": {
    "collapsed": false
   },
   "outputs": [
    {
     "data": {
      "text/plain": [
       "array([20, 11, 12,  6,  1,  7])"
      ]
     },
     "execution_count": 20,
     "metadata": {},
     "output_type": "execute_result"
    }
   ],
   "source": [
    "# Now let's encode the string  \"fontys\" in such a way that each character is encoded with the reverse number of the \n",
    "# alphabet: a=26, z=1; you should get:\n",
    "# array([20, 11, 12,  6,  1,  7])\n",
    "\n",
    "fontys_text = 'fontys'\n",
    "\n",
    "np.array([i for c in fontys_text for i,ch in  enumerate(\n",
    "    ['z', 'y', 'x', 'w', 'v', 'u', 't', 's', 'r', 'q', 'p', 'o', 'n', 'm', 'l', 'k', 'j', 'i', 'h', 'g', 'f', 'e', 'd',\n",
    "     'c', 'b', 'a'])  if ch == c])"
   ]
  },
  {
   "cell_type": "code",
   "execution_count": 21,
   "metadata": {
    "collapsed": false
   },
   "outputs": [
    {
     "data": {
      "text/plain": [
       "array([ 1.,  2.,  3.])"
      ]
     },
     "execution_count": 21,
     "metadata": {},
     "output_type": "execute_result"
    }
   ],
   "source": [
    "# That was a nice recap of last weeks's exercises\n",
    "# Usually we will work with arrays of floats and we can pass the data type upon creation:\n",
    "np.array([1,2,3], dtype = float)\n",
    "\n",
    "# Or just np.array([1,2,3], float) "
   ]
  },
  {
   "cell_type": "code",
   "execution_count": 22,
   "metadata": {
    "collapsed": false
   },
   "outputs": [
    {
     "data": {
      "text/plain": [
       "array([[1, 2, 3],\n       [3, 2, 1]])"
      ]
     },
     "execution_count": 22,
     "metadata": {},
     "output_type": "execute_result"
    }
   ],
   "source": [
    "# In sklearn we will often work with multi-dimensional arrays (matrices); create the array ([1,2,3],[3,2,1])\n",
    "np.array([[1,2,3],[3,2,1]])"
   ]
  },
  {
   "cell_type": "code",
   "execution_count": 8,
   "metadata": {
    "collapsed": false
   },
   "outputs": [
    {
     "data": {
      "text/plain": [
       "array([[1, 2, 3], [2, 1]], dtype=object)"
      ]
     },
     "execution_count": 8,
     "metadata": {},
     "output_type": "execute_result"
    }
   ],
   "source": [
    "# What happens if the rows are not of equal size; \n",
    "np.array([[1,2,3],[2,1]])\n",
    "\n",
    "# You 'll get a 1 dimensional array of objects!"
   ]
  },
  {
   "cell_type": "code",
   "execution_count": 39,
   "metadata": {
    "collapsed": false
   },
   "outputs": [
    {
     "data": {
      "text/plain": [
       "array([[0, 3],\n       [1, 4],\n       [2, 5]])"
      ]
     },
     "execution_count": 39,
     "metadata": {},
     "output_type": "execute_result"
    }
   ],
   "source": [
    "# You just created a  2 x 3 array. How can you create the mirrored 2 x 3 array of the original data?\n",
    "# Use np.transpose\n",
    "x = np.arange(6).reshape((2,3))\n",
    "np.transpose(x)"
   ]
  },
  {
   "cell_type": "code",
   "execution_count": 42,
   "metadata": {
    "collapsed": false
   },
   "outputs": [
    {
     "data": {
      "text/plain": [
       "array([[0, 3],\n       [1, 4],\n       [2, 5]])"
      ]
     },
     "execution_count": 42,
     "metadata": {},
     "output_type": "execute_result"
    }
   ],
   "source": [
    "# or even easier: use the .T attribute\n",
    "x = np.arange(6).reshape((2,3))\n",
    "x.T"
   ]
  },
  {
   "cell_type": "code",
   "execution_count": 53,
   "metadata": {
    "collapsed": false
   },
   "outputs": [
    {
     "name": "stdout",
     "output_type": "stream",
     "text": [
      "(2, 3) 2 6\n"
     ]
    }
   ],
   "source": [
    "# Each array has a number of properties\n",
    "# We will often use shape, ndim (number of dimensions) and size (number of elements) properties\n",
    "# get shape, ndim and size of the array below\n",
    "M = np.array([[1,2,3],[3,2,1]])\n",
    "print(M.shape,M.ndim, M.size)"
   ]
  },
  {
   "cell_type": "code",
   "execution_count": 54,
   "metadata": {
    "collapsed": false
   },
   "outputs": [
    {
     "data": {
      "text/plain": [
       "True"
      ]
     },
     "execution_count": 54,
     "metadata": {},
     "output_type": "execute_result"
    }
   ],
   "source": [
    "# The number of dimensions is equal to the number of elements in the shape vector.\n",
    "# The array size is equal to the product of the shape elements\n",
    "# Proof both:\n",
    "sz = 1\n",
    "for i in range(len(M.shape)):\n",
    "    sz *= M.shape[i]\n",
    "M.size == sz and len(M.shape) == M.ndim"
   ]
  },
  {
   "cell_type": "code",
   "execution_count": 13,
   "metadata": {
    "collapsed": false
   },
   "outputs": [
    {
     "data": {
      "text/plain": [
       "6"
      ]
     },
     "execution_count": 13,
     "metadata": {},
     "output_type": "execute_result"
    }
   ],
   "source": [
    "# Although a.size is only a short tuple, it is common to write for loops as above with a reduce (it's the same reduce \n",
    "# from the map/reduce algorithm)\n",
    "# Import the reduce from itertools and combine with a lambda to rewrite above for loop\n",
    "from functools import reduce\n",
    "reduce(lambda x, y: x * y, M.shape)"
   ]
  },
  {
   "cell_type": "code",
   "execution_count": 14,
   "metadata": {
    "collapsed": false
   },
   "outputs": [
    {
     "name": "stdout",
     "output_type": "stream",
     "text": [
      "['MappingProxyType', 'RLock', 'WRAPPER_ASSIGNMENTS', 'WRAPPER_UPDATES', 'WeakKeyDictionary', '_CacheInfo', '_HashedSeq', '__all__', '__builtins__', '__cached__', '__doc__', '__file__', '__loader__', '__name__', '__package__', '__spec__', '_c3_merge', '_c3_mro', '_compose_mro', '_find_impl', '_ge_from_gt', '_ge_from_le', '_ge_from_lt', '_gt_from_ge', '_gt_from_le', '_gt_from_lt', '_le_from_ge', '_le_from_gt', '_le_from_lt', '_lt_from_ge', '_lt_from_gt', '_lt_from_le', '_make_key', 'cmp_to_key', 'get_cache_token', 'lru_cache', 'namedtuple', 'partial', 'partialmethod', 'reduce', 'singledispatch', 'total_ordering', 'update_wrapper', 'wraps']\n"
     ]
    }
   ],
   "source": [
    "# Want to know what other goodies are stuffed in the functools module? (first you have to import the complete module)\n",
    "import functools\n",
    "print(dir(functools))"
   ]
  },
  {
   "cell_type": "code",
   "execution_count": null,
   "metadata": {
    "collapsed": false
   },
   "outputs": [
    {
     "name": "stdout",
     "output_type": "stream",
     "text": [
      "Help on built-in function reduce in module _functools:\n",
      "\n",
      "reduce(...)\n",
      "    reduce(function, sequence[, initial]) -> value\n",
      "    \n",
      "    Apply a function of two arguments cumulatively to the items of a sequence,\n",
      "    from left to right, so as to reduce the sequence to a single value.\n",
      "    For example, reduce(lambda x, y: x+y, [1, 2, 3, 4, 5]) calculates\n",
      "    ((((1+2)+3)+4)+5).  If initial is present, it is placed before the items\n",
      "    of the sequence in the calculation, and serves as a default when the\n",
      "    sequence is empty.\n",
      "\n"
     ]
    }
   ],
   "source": [
    "# Want to know specifically about reduce():\n",
    "help(functools.reduce)"
   ]
  },
  {
   "cell_type": "code",
   "execution_count": 16,
   "metadata": {
    "collapsed": true
   },
   "outputs": [],
   "source": [
    "# You can also use the magic command ? Now help is directed to a separate window, called the pager\n",
    "# Btw, we can use reduce without the functools qualifier as we've imported it directly into our namespace\n",
    "?reduce"
   ]
  },
  {
   "cell_type": "code",
   "execution_count": 18,
   "metadata": {
    "collapsed": false
   },
   "outputs": [
    {
     "data": {
      "text/plain": [
       "True"
      ]
     },
     "execution_count": 18,
     "metadata": {},
     "output_type": "execute_result"
    }
   ],
   "source": [
    "# You can avoid the lambda by using straight operator reduction\n",
    "# Import the mul (multiply) operator from the operator module\n",
    "from operator import mul\n",
    "reduce(mul, M.shape) == M.size and len(M.shape) == M.ndim"
   ]
  },
  {
   "cell_type": "code",
   "execution_count": 19,
   "metadata": {
    "collapsed": false
   },
   "outputs": [
    {
     "name": "stdout",
     "output_type": "stream",
     "text": [
      "The slowest run took 12.87 times longer than the fastest. This could mean that an intermediate result is being cached \n",
      "1000000 loops, best of 3: 491 ns per loop\n",
      "The slowest run took 27.35 times longer than the fastest. This could mean that an intermediate result is being cached \n",
      "1000000 loops, best of 3: 332 ns per loop\n"
     ]
    }
   ],
   "source": [
    "# use #timeit to compare performance of lambda versus operator.mul\n",
    "%timeit reduce(lambda x, y: x * y, M.shape)\n",
    "%timeit reduce(mul, M.shape)"
   ]
  },
  {
   "cell_type": "markdown",
   "metadata": {},
   "source": [
    "#### Automatic Array Creation"
   ]
  },
  {
   "cell_type": "code",
   "execution_count": 21,
   "metadata": {
    "collapsed": false
   },
   "outputs": [
    {
     "data": {
      "text/plain": [
       "array([ 0.,  0.,  0.,  0.,  0.,  0.])"
      ]
     },
     "execution_count": 21,
     "metadata": {},
     "output_type": "execute_result"
    }
   ],
   "source": [
    "# Use np.zeros to create an array of 0's\n",
    "np.zeros(6)"
   ]
  },
  {
   "cell_type": "code",
   "execution_count": 22,
   "metadata": {
    "collapsed": false
   },
   "outputs": [
    {
     "data": {
      "text/plain": [
       "array([[ 0.,  0.],\n",
       "       [ 0.,  0.],\n",
       "       [ 0.,  0.]])"
      ]
     },
     "execution_count": 22,
     "metadata": {},
     "output_type": "execute_result"
    }
   ],
   "source": [
    "# You can morph to a required shape in the same constructor:\n",
    "np.zeros((3,2))    # parenthesis are required as zeros() can have more params. See ?np.zeros"
   ]
  },
  {
   "cell_type": "code",
   "execution_count": 23,
   "metadata": {
    "collapsed": false
   },
   "outputs": [
    {
     "data": {
      "text/plain": [
       "array([ 1.,  1.,  1.,  1.,  1.])"
      ]
     },
     "execution_count": 23,
     "metadata": {},
     "output_type": "execute_result"
    }
   ],
   "source": [
    "# Use np.ones to create an array of 1's\n",
    "np.ones(5)"
   ]
  },
  {
   "cell_type": "code",
   "execution_count": 24,
   "metadata": {
    "collapsed": false
   },
   "outputs": [
    {
     "data": {
      "text/plain": [
       "array([0, 1, 2, 3, 4, 5, 6, 7, 8, 9])"
      ]
     },
     "execution_count": 24,
     "metadata": {},
     "output_type": "execute_result"
    }
   ],
   "source": [
    "# np.arange can be used to create an array from a range\n",
    "# create array([0, 1, 2, 3, 4, 5, 6, 7, 8, 9]) using arange()\n",
    "np.arange(10)"
   ]
  },
  {
   "cell_type": "code",
   "execution_count": 26,
   "metadata": {
    "collapsed": false
   },
   "outputs": [
    {
     "data": {
      "text/plain": [
       "array([ 0. ,  0.1,  0.2,  0.3,  0.4,  0.5,  0.6,  0.7,  0.8,  0.9])"
      ]
     },
     "execution_count": 26,
     "metadata": {},
     "output_type": "execute_result"
    }
   ],
   "source": [
    "# With arange() you can use the same parameters as with range():\n",
    "np.arange(0, 1, 0.1)"
   ]
  },
  {
   "cell_type": "code",
   "execution_count": 28,
   "metadata": {
    "collapsed": false
   },
   "outputs": [
    {
     "data": {
      "text/plain": [
       "array([ 1. ,  1.1,  1.2,  1.3,  1.4,  1.5,  1.6,  1.7,  1.8,  1.9,  2. ])"
      ]
     },
     "execution_count": 28,
     "metadata": {},
     "output_type": "execute_result"
    }
   ],
   "source": [
    "# Use np.linspace tocreate arrays with a specified number of elements, spaced equally between specified beginning and \n",
    "# end values\n",
    "# Create array([1. ,  1.1,  1.2,  1.3,  1.4,  1.5,  1.6,  1.7,  1.8,  1.9,  2. ])\n",
    "np.linspace(1., 2., 11)"
   ]
  },
  {
   "cell_type": "code",
   "execution_count": 30,
   "metadata": {
    "collapsed": false
   },
   "outputs": [
    {
     "data": {
      "text/plain": [
       "array([ 1.        ,  1.24884887,  1.5596235 ,  1.94773404,  2.43242545,\n",
       "        3.03773178,  3.79366789,  4.73771786,  5.91669359,  7.3890561 ])"
      ]
     },
     "execution_count": 30,
     "metadata": {},
     "output_type": "execute_result"
    }
   ],
   "source": [
    "# You can use logscale() to generate evenly spaced numbers on a log scale; see ?np.logspace\n",
    "from math import e\n",
    "np.logspace(0, 2, 10, base=e)"
   ]
  },
  {
   "cell_type": "code",
   "execution_count": 34,
   "metadata": {
    "collapsed": false
   },
   "outputs": [
    {
     "data": {
      "image/png": "[encoded data removed]",
      "text/plain": [
       "<matplotlib.figure.Figure at 0x741e128>"
      ]
     },
     "metadata": {},
     "output_type": "display_data"
    }
   ],
   "source": [
    "# Try to plot np.linspace(0., 20., 10) and  np.logspace(0, 3, 10, base=e) in a plot using matplotlib\n",
    "# New? Didn't you already learn this in visualization ...\n",
    "%matplotlib inline\n",
    "import matplotlib.pyplot as plt\n",
    "plt.plot(range(10), np.logspace(0, 3, 10, base=e), label='log')\n",
    "plt.plot(range(10), np.linspace(0, 20, 10), label='linear')\n",
    "plt.legend(loc='best')\n",
    "plt.show()"
   ]
  },
  {
   "cell_type": "code",
   "execution_count": 35,
   "metadata": {
    "collapsed": false
   },
   "outputs": [
    {
     "data": {
      "text/plain": [
       "3.7200759760208555e-44"
      ]
     },
     "execution_count": 35,
     "metadata": {},
     "output_type": "execute_result"
    }
   ],
   "source": [
    "e**-100"
   ]
  },
  {
   "cell_type": "code",
   "execution_count": 5,
   "metadata": {
    "collapsed": false
   },
   "outputs": [
    {
     "data": {
      "text/plain": [
       "array([[ 0.3087279 ,  0.12358694,  0.15858729],\n       [ 0.67985896,  0.64325765,  0.64312437]])"
      ]
     },
     "execution_count": 4,
     "metadata": {},
     "output_type": "execute_result"
    }
   ],
   "source": [
    "# For test data in sklearn, we wil often use randomly created data\n",
    "# Create a 2x3 array of random data between 0 and 1\n",
    "import numpy as np\n",
    "np.random.rand(2,3)"
   ]
  },
  {
   "cell_type": "code",
   "execution_count": 13,
   "metadata": {
    "collapsed": false
   },
   "outputs": [
    {
     "data": {
      "text/plain": [
       "array([  6.24759776,   3.94415346,   7.71395789,   4.69199824,\n         2.99499427,   8.82019314,   7.49839286,   6.28877009,\n         8.84726726,   6.40693647,  10.11129695,   9.93534169,\n         9.71691699,  11.88689869,   8.04765292,   6.45777238,\n        11.32791092,   6.91465218,   6.29586282,   8.20280012,\n         8.14633927,   9.3167942 ,   9.02320204,   5.05918087])"
      ]
     },
     "execution_count": 13,
     "metadata": {},
     "output_type": "execute_result"
    }
   ],
   "source": [
    "# There are many ways to draw random numbers.\n",
    "# Draw 24 random numbers from a normalized distribution with mean 6.75 and stddev 2\n",
    "# This could be used to simulate class grades ...\n",
    "import numpy as np\n",
    "mean, stddev = 6.75, 2\n",
    "s = np.random.normal(mean, stddev, 24)\n",
    "s"
   ]
  },
  {
   "cell_type": "markdown",
   "metadata": {},
   "source": [
    "#### Importing data from CSV files\n",
    "Often, extracting and cleaning data is executed in a separate process. It is the process you learn all about in the Getting and Cleaning Data course. Often, the result of this process is a CSV file, that can be used for further analysis with, for instance pandas or sklearn. Numpy has dedicated facilities to read data from a CSV file into an array."
   ]
  },
  {
   "cell_type": "code",
   "execution_count": 6,
   "metadata": {
    "collapsed": false,
    "scrolled": true
   },
   "outputs": [
    {
     "data": {
      "text/plain": [
       "array([[             nan,              nan,              nan],\n",
       "       [  2.01000000e+03,   4.30000000e+01,   1.50000000e+01],\n",
       "       [  2.01100000e+03,   4.10000000e+01,   7.00000000e+00],\n",
       "       [  2.01200000e+03,   3.70000000e+01,   9.00000000e+00],\n",
       "       [  2.01300000e+03,   2.10000000e+01,   1.00000000e+00],\n",
       "       [  2.01400000e+03,   1.50000000e+01,   9.00000000e+00],\n",
       "       [  2.01500000e+03,   1.00000000e+01,   7.00000000e+00]])"
      ]
     },
     "execution_count": 6,
     "metadata": {},
     "output_type": "execute_result"
    }
   ],
   "source": [
    "# read the contents of data.csv into a NumPy('data.csv', delimiter=';')\n",
    "\n",
    "#There is not data.csv :/"
   ]
  },
  {
   "cell_type": "code",
   "execution_count": 15,
   "metadata": {
    "collapsed": false
   },
   "outputs": [
    {
     "data": {
      "text/plain": [
       "array([[ 2010.,    43.,    15.],\n",
       "       [ 2011.,    41.,     7.]])"
      ]
     },
     "execution_count": 15,
     "metadata": {},
     "output_type": "execute_result"
    }
   ],
   "source": [
    "# The header row is convenient when using labeled columns in pandas, but here we want to ignore it.\n",
    "# Remove the header row and show only the first two rows\n",
    "\n",
    "#there is no data.csv but to remove the first row we can use the following:\n",
    "# x = numpy.delete(x, (0), 0)"
   ]
  },
  {
   "cell_type": "markdown",
   "metadata": {},
   "source": [
    "#### Indexing, Slicing and Masking"
   ]
  },
  {
   "cell_type": "code",
   "execution_count": 14,
   "metadata": {
    "collapsed": false
   },
   "outputs": [
    {
     "name": "stdout",
     "output_type": "stream",
     "text": [
      "[[ 0  1  2  3]\n [ 4  5  6  7]\n [ 8  9 10 11]]\n"
     ]
    },
    {
     "data": {
      "text/plain": [
       "array([0, 1, 2, 3])"
      ]
     },
     "execution_count": 14,
     "metadata": {},
     "output_type": "execute_result"
    }
   ],
   "source": [
    "# Get the first row from matrix M: array([[ 0,  1,  2,  3], [ 4,  5,  6,  7], [ 8,  9, 10, 11]])\n",
    "M = np.arange(12).reshape(3,4)\n",
    "print(M)\n",
    "M[0]"
   ]
  },
  {
   "cell_type": "code",
   "execution_count": 18,
   "metadata": {
    "collapsed": false
   },
   "outputs": [
    {
     "data": {
      "text/plain": [
       "[1, 5, 9]"
      ]
     },
     "execution_count": 18,
     "metadata": {},
     "output_type": "execute_result"
    }
   ],
   "source": [
    "# Get the second column from M\n",
    "M = np.arange(12).reshape(3,4)\n",
    "[row[1] for row in M]"
   ]
  },
  {
   "cell_type": "code",
   "execution_count": 19,
   "metadata": {
    "collapsed": false
   },
   "outputs": [
    {
     "data": {
      "text/plain": [
       "True"
      ]
     },
     "execution_count": 19,
     "metadata": {},
     "output_type": "execute_result"
    }
   ],
   "source": [
    "# We already used the reshape method to change an array's shape\n",
    "# You can also do this using an np.newaxis object in a slice tuple:\n",
    "a = np.arange(12)\n",
    "a.reshape(12,1).shape == a[:,np.newaxis].shape"
   ]
  },
  {
   "cell_type": "code",
   "execution_count": 36,
   "metadata": {
    "collapsed": false
   },
   "outputs": [
    {
     "data": {
      "text/plain": [
       "array([0, 2, 4, 6, 8])"
      ]
     },
     "execution_count": 36,
     "metadata": {},
     "output_type": "execute_result"
    }
   ],
   "source": [
    "# You can use a boolean expression on an array to mask elements from that array\n",
    "a = np.arange(10)\n",
    "a[a % 2 == 0]"
   ]
  },
  {
   "cell_type": "code",
   "execution_count": 44,
   "metadata": {
    "collapsed": false
   },
   "outputs": [
    {
     "data": {
      "text/plain": [
       "array([0, 1, 2, 3, 4], dtype=int32)"
      ]
     },
     "execution_count": 44,
     "metadata": {},
     "output_type": "execute_result"
    }
   ],
   "source": [
    "# Divide all even numbers in an array by 2\n",
    "a = np.arange(10)\n",
    "        #np.divide(a[a % 2 == 0], 2) Used this in the first place to divide by numpy\n",
    "a[a % 2 == 0] // 2\n",
    "# Use integer division (//) if you want to maintain the integer data type:\n"
   ]
  },
  {
   "cell_type": "code",
   "execution_count": 55,
   "metadata": {
    "collapsed": false
   },
   "outputs": [
    {
     "data": {
      "text/plain": [
       "array([[ 1. ,  0.5,  1. ],\n       [ 1. ,  0.5,  1. ]])"
      ]
     },
     "execution_count": 55,
     "metadata": {},
     "output_type": "execute_result"
    }
   ],
   "source": [
    "# Divide all elements from the second column of a 2x3 matrix by 2\n",
    "a = np.ones(6).reshape(2,3)\n",
    "a[:,1] /= 2\n",
    "a"
   ]
  },
  {
   "cell_type": "code",
   "execution_count": 63,
   "metadata": {
    "collapsed": false
   },
   "outputs": [
    {
     "data": {
      "text/plain": [
       "array([[1, 2],\n       [4, 5],\n       [5, 6]])"
      ]
     },
     "execution_count": 63,
     "metadata": {},
     "output_type": "execute_result"
    }
   ],
   "source": [
    "# Strip the last value from each row in a 2-dim array (for instance a calculated row total)\n",
    "a = np.array([[1,2,3],[4,5,9],[5,6,11]])\n",
    "# now strip the last value from each row\n",
    "a[:, 0:2]"
   ]
  },
  {
   "cell_type": "markdown",
   "metadata": {},
   "source": [
    "There are a lot of indexing and slicing techniques in NumPy that can save you of lot of programming in preparing your data for any machine learning algorithm. Consult the [chapter on indexing in the NumPy tutorial](http://docs.scipy.org/doc/numpy/user/basics.indexing.html) to get a fairly complete list of various techniques."
   ]
  },
  {
   "cell_type": "markdown",
   "metadata": {},
   "source": [
    "#### Simple Array Operations"
   ]
  },
  {
   "cell_type": "code",
   "execution_count": 64,
   "metadata": {
    "collapsed": false
   },
   "outputs": [
    {
     "name": "stdout",
     "output_type": "stream",
     "text": [
      "[1 2 3]\n[3 3 3]\n[4 5 6]\n[4 5 6]\n"
     ]
    },
    {
     "data": {
      "text/plain": [
       "array([ True,  True,  True], dtype=bool)"
      ]
     },
     "execution_count": 64,
     "metadata": {},
     "output_type": "execute_result"
    }
   ],
   "source": [
    "# Given a = array(1,2,3) and b = array(3,3,3), verify that a+b is equal to a+3\n",
    "a = np.arange(1,4)\n",
    "print(a)\n",
    "b = np.array([3] * 3)\n",
    "print(b)\n",
    "print(a + b)\n",
    "print(a + 3)\n",
    "a + b == a + 3"
   ]
  },
  {
   "cell_type": "code",
   "execution_count": 5,
   "metadata": {
    "collapsed": false
   },
   "outputs": [
    {
     "data": {
      "text/plain": [
       "True"
      ]
     },
     "execution_count": 5,
     "metadata": {},
     "output_type": "execute_result"
    }
   ],
   "source": [
    "# or:\n",
    "np.all(a + b == a + 3)"
   ]
  },
  {
   "cell_type": "code",
   "execution_count": 65,
   "metadata": {
    "collapsed": false
   },
   "outputs": [
    {
     "name": "stdout",
     "output_type": "stream",
     "text": [
      "2\n2\n2\n"
     ]
    }
   ],
   "source": [
    "# Get the number of elements larger than 1 from array a\n",
    "print(a[a > 1].size)\n",
    "# a bit slower:\n",
    "print(len(a[a > 1]))\n",
    "# much slower (test with %timeit):\n",
    "print(sum(a > 1))"
   ]
  },
  {
   "cell_type": "code",
   "execution_count": 75,
   "metadata": {
    "collapsed": false,
    "scrolled": true
   },
   "outputs": [
    {
     "data": {
      "text/plain": [
       "2"
      ]
     },
     "execution_count": 75,
     "metadata": {},
     "output_type": "execute_result"
    }
   ],
   "source": [
    "# Considering the result of previous question, how would you count the nr of elements > 5 in a*b\n",
    "k = a*b \n",
    "k[k > 5].size"
   ]
  },
  {
   "cell_type": "code",
   "execution_count": 97,
   "metadata": {
    "collapsed": false
   },
   "outputs": [
    {
     "data": {
      "text/plain": [
       "2"
      ]
     },
     "execution_count": 97,
     "metadata": {},
     "output_type": "execute_result"
    }
   ],
   "source": [
    "# And how would you count the number of elements in b that are larger than their counterpart in a\n",
    "np.sum(b > a)"
   ]
  },
  {
   "cell_type": "code",
   "execution_count": 62,
   "metadata": {
    "collapsed": false
   },
   "outputs": [
    {
     "data": {
      "text/plain": [
       "array([[1, 4],\n",
       "       [2, 5],\n",
       "       [3, 6]])"
      ]
     },
     "execution_count": 62,
     "metadata": {},
     "output_type": "execute_result"
    }
   ],
   "source": [
    "# Transpose  3 by 2 array((1,2,3), (4,5,6) to 2 by 3 array((1,4), (2,5), (3,6))\n",
    "# In numpy we have a proper transpose function\n",
    "np.transpose(np.arange(1,7).reshape(2,3))"
   ]
  },
  {
   "cell_type": "code",
   "execution_count": 99,
   "metadata": {
    "collapsed": false
   },
   "outputs": [
    {
     "data": {
      "text/plain": [
       "array([[1, 4],\n       [2, 5],\n       [3, 6]])"
      ]
     },
     "execution_count": 99,
     "metadata": {},
     "output_type": "execute_result"
    }
   ],
   "source": [
    "# or, using the T attribute:\n",
    "np.arange(1,7).reshape(2,3).T"
   ]
  },
  {
   "cell_type": "code",
   "execution_count": 63,
   "metadata": {
    "collapsed": false
   },
   "outputs": [
    {
     "data": {
      "text/plain": [
       "array([[1, 2],\n",
       "       [3, 4],\n",
       "       [5, 6]])"
      ]
     },
     "execution_count": 63,
     "metadata": {},
     "output_type": "execute_result"
    }
   ],
   "source": [
    "# note this is not the same as:\n",
    "np.arange(1,7).reshape(2,3).reshape(3,2)"
   ]
  },
  {
   "cell_type": "code",
   "execution_count": 131,
   "metadata": {
    "collapsed": false
   },
   "outputs": [
    {
     "data": {
      "text/plain": [
       "array([[1, 2, 0],\n       [1, 4, 4]])"
      ]
     },
     "execution_count": 131,
     "metadata": {},
     "output_type": "execute_result"
    }
   ],
   "source": [
    "# Typical sklearn problem: \n",
    "# Change [['M', 'S', 'B'], ['geel', 'rood', 'rood']] to array((1,3,4,2), (4,2,3,3)), where the values of both lists \n",
    "# are looked up in lists ['B', 'M', 'S', 'T']  and ['blauw', 'geel', 'groen', 'oranje', 'rood']\n",
    "# so, your result should be:\n",
    "# array([[1, 2, 0],\n",
    "#       [1, 4, 4]])\n",
    "l1 = ['M', 'S', 'B']\n",
    "l2 = ['geel', 'rood', 'rood']\n",
    "lu1 = ['B', 'M', 'S', 'T']\n",
    "lu2 = ['blauw', 'geel', 'groen', 'oranje', 'rood']\n",
    "                                                 \n",
    "np.array([[i for c in l1 for i, ch in enumerate(lu1)if ch == c]] + [[i for c in l2 for i, ch in enumerate(lu2)if ch == c]])\n"
   ]
  },
  {
   "cell_type": "code",
   "execution_count": 136,
   "metadata": {
    "collapsed": false
   },
   "outputs": [
    {
     "name": "stdout",
     "output_type": "stream",
     "text": [
      "[ 6.71964579  7.43672554  6.48258904  8.73582976  7.24679809  8.09386607\n  6.0574774   6.83795416  4.8460845   7.37420659  7.03657748  7.721232\n  6.77498341  7.74765624  5.29939321  5.62597682  7.66512578  6.00434997\n  5.11231248  5.51781201]\n"
     ]
    },
    {
     "data": {
      "text/plain": [
       "3"
      ]
     },
     "execution_count": 136,
     "metadata": {},
     "output_type": "execute_result"
    }
   ],
   "source": [
    "# Count the number of fails in the randomly generated exam marks above\n",
    "a = np.random.normal(6.5, 1. , 20)\n",
    "print(a)\n",
    "# now create the count expression\n",
    "a[a < 5.5].size"
   ]
  },
  {
   "cell_type": "code",
   "execution_count": 151,
   "metadata": {
    "collapsed": false
   },
   "outputs": [
    {
     "data": {
      "text/plain": [
       "array([[1, 2, 3],\n       [3, 4, 5]])"
      ]
     },
     "execution_count": 151,
     "metadata": {},
     "output_type": "execute_result"
    }
   ],
   "source": [
    "# Add column array(3,5) to array((1, 2), (3, 4)) to form array((1, 2, 3), (3, 4, 5))\n",
    "# Use np.append, read carefully and think hard\n",
    "# Try some variations yourself\n",
    "'''''\n",
    "axis : int, optional\n",
    "        The axis along which `values` are appended.  If `axis` is not\n",
    "        given, both `arr` and `values` are flattened before use.\n",
    "'''''\n",
    "a = np.arange(1,5).reshape(2,2)\n",
    "np.append(a, [[3],[5]], axis = 1)\n",
    "\n"
   ]
  },
  {
   "cell_type": "code",
   "execution_count": 152,
   "metadata": {
    "collapsed": false
   },
   "outputs": [
    {
     "data": {
      "text/plain": [
       "array([[ 1.,  2.,  3.,  0.],\n       [ 4.,  5.,  6.,  0.],\n       [ 7.,  8.,  9.,  0.]])"
      ]
     },
     "execution_count": 152,
     "metadata": {},
     "output_type": "execute_result"
    }
   ],
   "source": [
    "# A more generic solution for adding a column of zeroes to any matrix would be:\n",
    "nrRows = 3\n",
    "a = np.arange(1,10).reshape(nrRows, nrRows)\n",
    "# Using list comprehension to morph the column to add in its required form\n",
    "np.append(a, [[n] for n in [0]*nrRows], axis = 1)\n",
    "# Or using np.zeros (careful with the parameters: first param is a tuple)\n",
    "np.append(a, np.zeros((nrRows,1)), axis=1)"
   ]
  },
  {
   "cell_type": "code",
   "execution_count": 153,
   "metadata": {
    "collapsed": false
   },
   "outputs": [
    {
     "data": {
      "text/plain": [
       "array([[ 1.,  2.,  3.,  0.],\n       [ 4.,  5.,  6.,  0.],\n       [ 7.,  8.,  9.,  0.]])"
      ]
     },
     "execution_count": 153,
     "metadata": {},
     "output_type": "execute_result"
    }
   ],
   "source": [
    "# or (study carefully):\n",
    "a = np.arange(1,10).reshape(3, 3)\n",
    "np.append(a.T, np.zeros((1,3)), axis=0).T"
   ]
  },
  {
   "cell_type": "markdown",
   "metadata": {},
   "source": [
    "#### Vectorization"
   ]
  },
  {
   "cell_type": "markdown",
   "metadata": {},
   "source": [
    "We already saw some examples of vectorization: `a % 2` and `a + 3` are simple examples of NumPy's vectorization capabilities. The operator and the non-array operand are applied to all elements in the array.\n",
    "You can also vectorize your own functions over an array using `np.vectorize()`"
   ]
  },
  {
   "cell_type": "code",
   "execution_count": 154,
   "metadata": {
    "collapsed": false
   },
   "outputs": [
    {
     "name": "stdout",
     "output_type": "stream",
     "text": [
      "[0 1 2 3 4] [5 4 3 2 1]\n"
     ]
    },
    {
     "data": {
      "text/plain": [
       "array([4, 3, 2, 1, 0])"
      ]
     },
     "execution_count": 154,
     "metadata": {},
     "output_type": "execute_result"
    }
   ],
   "source": [
    "a1 = np.arange(0, 5)\n",
    "a2 = np.arange(5, 0, -1)\n",
    "print(a1, a2)\n",
    "a1[4::-1]"
   ]
  },
  {
   "cell_type": "markdown",
   "metadata": {
    "collapsed": false
   },
   "source": [
    "You can also apply this principle of vectorization to your functions. That is, you can vectorize you function over your NumPy array using np.vectorize"
   ]
  },
  {
   "cell_type": "code",
   "execution_count": 67,
   "metadata": {
    "collapsed": false
   },
   "outputs": [
    {
     "data": {
      "text/plain": [
       "array([ 0,  6, 12, 18, 24, 30, 36, 42, 48, 54, 60, 66, 72, 78, 84, 90, 96])"
      ]
     },
     "execution_count": 67,
     "metadata": {},
     "output_type": "execute_result"
    }
   ],
   "source": [
    "def foo(x):\n",
    "    return x%2 == 0 and x%3 == 0\n",
    "\n",
    "a = np.arange(100)\n",
    "a[np.vectorize(foo)(a)]"
   ]
  },
  {
   "cell_type": "markdown",
   "metadata": {},
   "source": [
    "Look carefully at the previous construction: ``np.vectorize()`` returns a new function that is immediately called with the parameter a. This should look familiar to those of you having worked with JavaScript where you often apply a function immediately at definition. By using a lambda, you can also use an anonymous function for vectorization."
   ]
  },
  {
   "cell_type": "code",
   "execution_count": 70,
   "metadata": {
    "collapsed": false
   },
   "outputs": [
    {
     "data": {
      "text/plain": [
       "array([ 0,  6, 12, 18, 24, 30, 36, 42, 48, 54, 60, 66, 72, 78, 84, 90, 96])"
      ]
     },
     "execution_count": 70,
     "metadata": {},
     "output_type": "execute_result"
    }
   ],
   "source": [
    "# create the same list using vectorization with a lambda\n",
    "a[np.vectorize(lambda x: x%2 == 0 and x%3 == 0)(a)]"
   ]
  }
 ],
 "metadata": {
  "kernelspec": {
   "display_name": "Python 3",
   "language": "python",
   "name": "python3"
  },
  "language_info": {
   "codemirror_mode": {
    "name": "ipython",
    "version": 3
   },
   "file_extension": ".py",
   "mimetype": "text/x-python",
   "name": "python",
   "nbconvert_exporter": "python",
   "pygments_lexer": "ipython3",
   "version": "3.5.0"
  }
 },
 "nbformat": 4,
 "nbformat_minor": 0
}
